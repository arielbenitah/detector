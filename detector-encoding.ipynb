{
 "cells": [
  {
   "cell_type": "code",
   "execution_count": 1,
   "metadata": {},
   "outputs": [],
   "source": [
    "# from __future__ import division\n",
    "from fastai.vision import *\n",
    "import pdb"
   ]
  },
  {
   "cell_type": "raw",
   "metadata": {},
   "source": [
    "for a feature map of size 4 x 4, we have 16 locations like below:"
   ]
  },
  {
   "cell_type": "code",
   "execution_count": 2,
   "metadata": {},
   "outputs": [
    {
     "data": {
      "text/plain": [
       "tensor([[ 0,  1,  2,  3],\n",
       "        [ 4,  5,  6,  7],\n",
       "        [ 8,  9, 10, 11],\n",
       "        [12, 13, 14, 15]])"
      ]
     },
     "execution_count": 2,
     "metadata": {},
     "output_type": "execute_result"
    }
   ],
   "source": [
    "torch.arange(0, 16).long().view(4, 4)"
   ]
  },
  {
   "cell_type": "code",
   "execution_count": 3,
   "metadata": {},
   "outputs": [],
   "source": [
    "# anchors centers as [c_y, c_x]\n",
    "def create_grid(size):\n",
    "    \"Create a grid of a given size\"\n",
    "    H, W = size if is_tuple(size) else (size, size)\n",
    "    grid = FloatTensor(H, W, 2)\n",
    "    linear_points = torch.linspace(-1+1/W, 1-1/W, W) if W > 1 else tensor([0.])\n",
    "    grid[:, : ,1] = torch.ger(torch.ones(H), linear_points).expand_as(grid[:, :, 0])\n",
    "    linear_points = torch.linspace(-1+1/H, 1-1/H, H) if H > 1 else tensor([0.])\n",
    "    grid[:, :, 0] = torch.ger(linear_points, torch.ones(W)).expand_as(grid[:, :, 1])\n",
    "    return grid.view(-1, 2)"
   ]
  },
  {
   "cell_type": "raw",
   "metadata": {},
   "source": [
    "Hepler to show the anchors"
   ]
  },
  {
   "cell_type": "code",
   "execution_count": 4,
   "metadata": {},
   "outputs": [],
   "source": [
    "def show_anchors(ancs, size):\n",
    "    _,ax = plt.subplots(1,1, figsize=(5,5))\n",
    "    ax.set_xticks(np.linspace(-1,1, size[1]+1))\n",
    "    ax.set_yticks(np.linspace(-1,1, size[0]+1))\n",
    "    ax.grid()\n",
    "    ax.scatter(ancs[:,1], ancs[:,0]) #y is first\n",
    "    ax.set_yticklabels([])\n",
    "    ax.set_xticklabels([])\n",
    "    ax.set_xlim(-1,1)\n",
    "    ax.set_ylim(1,-1) #-1 is top, 1 is bottom\n",
    "    for i, (x, y) in enumerate(zip(ancs[:, 1], ancs[:, 0])): ax.annotate(i, xy = (x,y))"
   ]
  },
  {
   "cell_type": "code",
   "execution_count": 5,
   "metadata": {},
   "outputs": [
    {
     "data": {
      "image/png": "[encoded data removed]",
      "text/plain": [
       "<Figure size 360x360 with 1 Axes>"
      ]
     },
     "metadata": {
      "needs_background": "light"
     },
     "output_type": "display_data"
    }
   ],
   "source": [
    "size = (4,4)\n",
    "ancs = create_grid(size)\n",
    "show_anchors(ancs, size)"
   ]
  },
  {
   "cell_type": "code",
   "execution_count": 6,
   "metadata": {},
   "outputs": [
    {
     "data": {
      "text/plain": [
       "tensor([[-0.7500, -0.7500],\n",
       "        [-0.7500, -0.2500],\n",
       "        [-0.7500,  0.2500],\n",
       "        [-0.7500,  0.7500],\n",
       "        [-0.2500, -0.7500],\n",
       "        [-0.2500, -0.2500],\n",
       "        [-0.2500,  0.2500],\n",
       "        [-0.2500,  0.7500],\n",
       "        [ 0.2500, -0.7500],\n",
       "        [ 0.2500, -0.2500],\n",
       "        [ 0.2500,  0.2500],\n",
       "        [ 0.2500,  0.7500],\n",
       "        [ 0.7500, -0.7500],\n",
       "        [ 0.7500, -0.2500],\n",
       "        [ 0.7500,  0.2500],\n",
       "        [ 0.7500,  0.7500]])"
      ]
     },
     "execution_count": 6,
     "metadata": {},
     "output_type": "execute_result"
    }
   ],
   "source": [
    "ancs"
   ]
  },
  {
   "cell_type": "raw",
   "metadata": {},
   "source": [
    "In practice, we use different ratios and scales of that basic grid to build our anchors, because bounding boxes aren't always a perfect square inside a grid."
   ]
  },
  {
   "cell_type": "code",
   "execution_count": 7,
   "metadata": {},
   "outputs": [],
   "source": [
    "# for a specific list of faetures map sizes, list of ratios and list of scales, \n",
    "# return the FULL list of anchors for ALL features maps\n",
    "# the format is:\n",
    "# N x [c_y, c_x, h, w]\n",
    "# where N is the total number of anchors\n",
    "def create_anchors(sizes, ratios, scales, flatten=True):\n",
    "    \"Create anchor of `sizes`, `ratios` and `scales`.\"\n",
    "    \n",
    "    # build ratio according to [y, x] dimensions for each scale: 3 scales and 3 aspect ratios:  a total of 9 aspect ratios\n",
    "    aspects = [[[s*math.sqrt(r), s*math.sqrt(1/r)] for s in scales] for r in ratios]\n",
    "    \n",
    "    # reshape previous 3 x 3 x 2 into 9 x 2\n",
    "    aspects = torch.tensor(aspects).view(-1,2)\n",
    "    \n",
    "    # init anchors to empty\n",
    "    anchors = []\n",
    "    \n",
    "    # run on each feature map sizes\n",
    "    for h,w in sizes:    \n",
    "        \n",
    "        # add one (dummy) dimension to the begining of the matrix 9 x 2 ---> 1 x 9 x 2 (done with .unsqueeze(0))\n",
    "        #4 here to have the anchors overlap - don't understand this one!        \n",
    "        sized_aspects = 4 * (aspects * torch.tensor([2/h,2/w])).unsqueeze(0)\n",
    "        \n",
    "        # base_grid is (h x w) x 2: (h x w) cells containing center [c_y, c_x] of anchors\n",
    "        # add one dimension to the middle (width .unsqueeze(1)) so that (h x w) x 2 ---> (h x w) x 1 x 2\n",
    "        base_grid = create_grid((h,w)).unsqueeze(1)\n",
    "        \n",
    "        # get dimensions: n is the number of cells in the features map: h x w and a is the total number of anchors\n",
    "        # for this feature map\n",
    "        n,a = base_grid.size(0),aspects.size(0)\n",
    "        \n",
    "        # .expand is the same as repeat. So here, repeat the same values in (h x w) x 2 to get (h x w) x 9 x 2 \n",
    "        # and build the anchors \n",
    "        ancs = torch.cat([base_grid.expand(n,a,2), sized_aspects.expand(n,a,2)], 2)\n",
    "        \n",
    "        # for each feature map reshape from (h x w) x 9 x 2 ---> h x w x 9 x 2 \n",
    "        anchors.append(ancs.view(h,w,a,4))\n",
    "    \n",
    "    # return the overall anchors boxes for all features map as N x 4 where N is the total num of anchors for all sizes\n",
    "    return torch.cat([anc.view(-1,4) for anc in anchors],0) if flatten else anchors"
   ]
  },
  {
   "cell_type": "code",
   "execution_count": 8,
   "metadata": {},
   "outputs": [
    {
     "name": "stdout",
     "output_type": "stream",
     "text": [
      "[0.5, 1, 2]\n",
      "[1, 0.7937005259840998, 0.6299605249474366]\n",
      "[(1, 1), (2, 2), (4, 4), (8, 8), (16, 16)]\n",
      "torch.Size([3069, 4])\n"
     ]
    }
   ],
   "source": [
    "# ratio of each bb\n",
    "ratios = [1/2,1,2]; print(ratios)\n",
    "\n",
    "# scales of each bb\n",
    "scales = [1,2**(-1/3), 2**(-2/3)]; print(scales)\n",
    "\n",
    "# size of each features map\n",
    "#Paper used [1,2**(1/3), 2**(2/3)] but a bigger size (600) too, so the largest feature map gave anchors that cover less of the image.\n",
    "sizes = [(2**i,2**i) for i in range(5)]; print(sizes)\n",
    "sizes.reverse() #Predictions come in the order of the smallest feature map to the biggest\n",
    "\n",
    "# full anchors. Here it will gives a total num of anchors (bounding boxes) - in this order:\n",
    "# N =  16 * 16 * 9 + 8 * 8 * 9 + 4 * 4 * 9 + 2 * 2 * 9 + 1 * 1 * 9\n",
    "anchors = create_anchors(sizes, ratios, scales); print(anchors.size())"
   ]
  },
  {
   "cell_type": "raw",
   "metadata": {},
   "source": [
    "That's a bit less than in our computation earlier, but this is because it's for the case of (128,128) images (sizes go from (1,1) to (32,32) instead of (2,2) to (64,64))."
   ]
  },
  {
   "cell_type": "code",
   "execution_count": 9,
   "metadata": {},
   "outputs": [],
   "source": [
    "import matplotlib.cm as cmx\n",
    "import matplotlib.colors as mcolors\n",
    "from cycler import cycler\n",
    "\n",
    "def get_cmap(N):\n",
    "    color_norm  = mcolors.Normalize(vmin=0, vmax=N-1)\n",
    "    return cmx.ScalarMappable(norm=color_norm, cmap='Set3').to_rgba\n",
    "\n",
    "num_color = 12\n",
    "cmap = get_cmap(num_color)\n",
    "color_list = [cmap(float(x)) for x in range(num_color)]\n",
    "\n",
    "def draw_outline(o, lw):\n",
    "    o.set_path_effects([patheffects.Stroke(\n",
    "        linewidth=lw, foreground='black'), patheffects.Normal()])\n",
    "\n",
    "def draw_rect(ax, b, color='white'):\n",
    "    patch = ax.add_patch(patches.Rectangle(b[:2], *b[-2:], fill=False, edgecolor=color, lw=2))\n",
    "    draw_outline(patch, 4)\n",
    "\n",
    "def draw_text(ax, xy, txt, sz=14, color='white'):\n",
    "    text = ax.text(*xy, txt,\n",
    "        verticalalignment='top', color=color, fontsize=sz, weight='bold')\n",
    "    draw_outline(text, 1)\n"
   ]
  },
  {
   "cell_type": "code",
   "execution_count": 10,
   "metadata": {},
   "outputs": [],
   "source": [
    "def show_boxes(boxes):\n",
    "    \"Show the `boxes` (size by 4)\"\n",
    "    _, ax = plt.subplots(1,1, figsize=(5,5))\n",
    "    ax.set_xlim(-1,1)\n",
    "    ax.set_ylim(1,-1)\n",
    "    for i, bbox in enumerate(boxes):\n",
    "        bb = bbox.numpy()\n",
    "        rect = [bb[1]-bb[3]/2, bb[0]-bb[2]/2, bb[3], bb[2]]\n",
    "        draw_rect(ax, rect, color=color_list[i%num_color])\n",
    "        draw_text(ax, [bb[1]-bb[3]/2,bb[0]-bb[2]/2], str(i), color=color_list[i%num_color])\n"
   ]
  },
  {
   "cell_type": "code",
   "execution_count": 11,
   "metadata": {},
   "outputs": [
    {
     "data": {
      "text/plain": [
       "2304"
      ]
     },
     "execution_count": 11,
     "metadata": {},
     "output_type": "execute_result"
    }
   ],
   "source": [
    "16*16*9 "
   ]
  },
  {
   "cell_type": "code",
   "execution_count": 12,
   "metadata": {},
   "outputs": [
    {
     "name": "stdout",
     "output_type": "stream",
     "text": [
      "540\n"
     ]
    },
    {
     "data": {
      "image/png": "[encoded data removed]",
      "text/plain": [
       "<Figure size 360x360 with 1 Axes>"
      ]
     },
     "metadata": {
      "needs_background": "light"
     },
     "output_type": "display_data"
    }
   ],
   "source": [
    "start = 60\n",
    "print(start * 9)\n",
    "show_boxes(anchors[9 * start:9 * (start + 1)])"
   ]
  },
  {
   "cell_type": "code",
   "execution_count": 13,
   "metadata": {},
   "outputs": [
    {
     "data": {
      "image/png": "[encoded data removed]",
      "text/plain": [
       "<Figure size 360x360 with 1 Axes>"
      ]
     },
     "metadata": {
      "needs_background": "light"
     },
     "output_type": "display_data"
    }
   ],
   "source": [
    "start = 100\n",
    "show_boxes(anchors[9 * start:9 * (start + 1)])"
   ]
  },
  {
   "cell_type": "raw",
   "metadata": {},
   "source": [
    "For each anchor, we have one class predicted by the classifier and 4 floats p_y,p_x,p_h,p_w predicted by the regressor. If the corresponding anchor as a center in anc_y, anc_x with dimensions anc_h, anc_w, the predicted bounding box has those characteristics:\n",
    "\n",
    "center = [p_y * anc_h + anc_y, p_x * anc_w + anc_x]\n",
    "height = anc_h * exp(p_h)\n",
    "width  = anc_w * exp(p_w)\n",
    "\n",
    "The idea is that a prediction of (0,0,0,0) corresponds to the anchor itself.\n",
    "\n",
    "The next function converts the activations of the model in bounding boxes."
   ]
  },
  {
   "cell_type": "code",
   "execution_count": 14,
   "metadata": {},
   "outputs": [],
   "source": [
    "def activ_to_bbox(acts, anchors, flatten=True):\n",
    "    \"Extrapolate bounding boxes on anchors from the model activations.\"\n",
    "    if flatten:\n",
    "        \n",
    "        # hack - don't know why?\n",
    "        acts.mul_(acts.new_tensor([[0.1, 0.1, 0.2, 0.2]])) #Can't remember where those scales come from, but they help regularize\n",
    "\n",
    "        # calculate predicted center of bounding box as defined above:\n",
    "        # centers = [anc_h * p_y + anc_y, anc_w * p_x + anc_x]\n",
    "        centers = anchors[...,2:] * acts[...,:2] + anchors[...,:2]\n",
    "        \n",
    "        # calculate predicted diemension of bounding box as defined above:\n",
    "        # height, width = anc_h * exp(p_h), anc_w * exp(p_w) \n",
    "        sizes = anchors[...,2:] * torch.exp(acts[...,:2])\n",
    "        \n",
    "        # concatenate and return predicted bounding box\n",
    "        return torch.cat([centers, sizes], -1)\n",
    "    \n",
    "    else: return [activ_to_bbox(act,anc) for act,anc in zip(acts, anchors)]\n",
    "    return res"
   ]
  },
  {
   "cell_type": "raw",
   "metadata": {},
   "source": [
    "Here is an example with the 3 by 4 regular grid and random predictions."
   ]
  },
  {
   "cell_type": "code",
   "execution_count": 36,
   "metadata": {},
   "outputs": [],
   "source": [
    "# tiny shift around BB center and BB dimension\n",
    "shift = 0.1\n",
    "\n",
    "# size of the feature map\n",
    "size=(3,4)\n",
    "\n",
    "# create anchor centers for `size`\n",
    "anchors = create_grid(size)\n",
    "\n",
    "# concatenate centers and dimension of the anchor [c_y c_x dim_y dim_x ]\n",
    "anchors = torch.cat([anchors, torch.tensor([2/size[0],2/size[1]]).expand_as(anchors)], 1)\n",
    "\n",
    "# calculate random activation boxes\n",
    "activations = torch.randn(size[0]*size[1], 4) * shift\n",
    "\n",
    "#convert those activations to bounding boxes according to the previous formula\n",
    "bboxes = activ_to_bbox(activations, anchors)"
   ]
  },
  {
   "cell_type": "code",
   "execution_count": 37,
   "metadata": {},
   "outputs": [
    {
     "data": {
      "image/png": "[encoded data removed]",
      "text/plain": [
       "<Figure size 360x360 with 1 Axes>"
      ]
     },
     "metadata": {
      "needs_background": "light"
     },
     "output_type": "display_data"
    }
   ],
   "source": [
    "show_boxes(bboxes)"
   ]
  },
  {
   "cell_type": "raw",
   "metadata": {},
   "source": [
    "This helper function changes boxes in the format center/height/width to top/left/bottom/right."
   ]
  },
  {
   "cell_type": "code",
   "execution_count": 38,
   "metadata": {},
   "outputs": [],
   "source": [
    "def cthw2tlbr(boxes):\n",
    "    \"Convert center/size format `boxes` to top/left bottom/right corners.\"\n",
    "    top_left = boxes[:,:2] - boxes[:,2:]/2\n",
    "    bot_right = boxes[:,:2] + boxes[:,2:]/2\n",
    "    return torch.cat([top_left, bot_right], 1)"
   ]
  },
  {
   "cell_type": "raw",
   "metadata": {},
   "source": [
    "Now to decide which predicted bounding box will match a given ground truth object, we will compute the intersection over unions ratios between all the anchors and all the targets, then we will keep the ones that have an overlap greater than a given threshold (0.5)."
   ]
  },
  {
   "cell_type": "code",
   "execution_count": 39,
   "metadata": {},
   "outputs": [],
   "source": [
    "# calculate the intersection area between the anchors \n",
    "# and the targets\n",
    "def intersection(anchors, targets):\n",
    "    \"Compute the sizes of the intersections of `anchors` by `targets`.\"\n",
    "    ancs, tgts = cthw2tlbr(anchors), cthw2tlbr(targets)\n",
    "    a, t = ancs.size(0), tgts.size(0)\n",
    "    \n",
    "    # .unsqueeze(i): add new dimension at `i` .expand: do the same as np.tile\n",
    "    # in numpy I would do >> ancs = ancs[:, None, :]\n",
    "    # then                >> ancs = np.tile(ancs, (1, 3, 1))\n",
    "    ancs, tgts = ancs.unsqueeze(1).expand(a,t,4), tgts.unsqueeze(0).expand(a,t,4)\n",
    "    top_left_i = torch.max(ancs[...,:2], tgts[...,:2])\n",
    "    bot_right_i = torch.min(ancs[...,2:], tgts[...,2:])\n",
    "    sizes = torch.clamp(bot_right_i - top_left_i, min=0) \n",
    "    return sizes[...,0] * sizes[...,1]"
   ]
  },
  {
   "cell_type": "raw",
   "metadata": {},
   "source": [
    "Let's see some results, if we have our 12 anchors from before..."
   ]
  },
  {
   "cell_type": "code",
   "execution_count": 40,
   "metadata": {},
   "outputs": [
    {
     "data": {
      "image/png": "[encoded data removed]",
      "text/plain": [
       "<Figure size 360x360 with 1 Axes>"
      ]
     },
     "metadata": {
      "needs_background": "light"
     },
     "output_type": "display_data"
    }
   ],
   "source": [
    "show_boxes(anchors)"
   ]
  },
  {
   "cell_type": "raw",
   "metadata": {},
   "source": [
    "... and those targets (0. is the whole image)"
   ]
  },
  {
   "cell_type": "code",
   "execution_count": 41,
   "metadata": {},
   "outputs": [
    {
     "data": {
      "image/png": "[encoded data removed]",
      "text/plain": [
       "<Figure size 360x360 with 1 Axes>"
      ]
     },
     "metadata": {
      "needs_background": "light"
     },
     "output_type": "display_data"
    }
   ],
   "source": [
    "targets = torch.tensor([[0.,0.,2.,2.], [-0.5,-0.5,1.,1.], [1/3,0.5,0.5,0.5]])\n",
    "show_boxes(targets)"
   ]
  },
  {
   "cell_type": "raw",
   "metadata": {},
   "source": [
    "Then the intersections of each bboxes by each targets are:"
   ]
  },
  {
   "cell_type": "code",
   "execution_count": 42,
   "metadata": {},
   "outputs": [
    {
     "data": {
      "text/plain": [
       "tensor([[0.3333, 0.3333, 0.0000],\n",
       "        [0.3333, 0.3333, 0.0000],\n",
       "        [0.3333, 0.0000, 0.0000],\n",
       "        [0.3333, 0.0000, 0.0000],\n",
       "        [0.3333, 0.1667, 0.0000],\n",
       "        [0.3333, 0.1667, 0.0000],\n",
       "        [0.3333, 0.0000, 0.0625],\n",
       "        [0.3333, 0.0000, 0.0625],\n",
       "        [0.3333, 0.0000, 0.0000],\n",
       "        [0.3333, 0.0000, 0.0000],\n",
       "        [0.3333, 0.0000, 0.0625],\n",
       "        [0.3333, 0.0000, 0.0625]])"
      ]
     },
     "execution_count": 42,
     "metadata": {},
     "output_type": "execute_result"
    }
   ],
   "source": [
    "# 12 anchors, 3 targets\n",
    "intersection(anchors, targets)"
   ]
  },
  {
   "cell_type": "code",
   "execution_count": 43,
   "metadata": {},
   "outputs": [],
   "source": [
    "def IoU_values(anchors, targets):\n",
    "    \"Compute the IoU values of `anchors` by `targets`.\"    \n",
    "    inter = intersection(anchors, targets)\n",
    "    anc_sz, tgt_sz = anchors[:,2] * anchors[:,3], targets[:,2] * targets[:,3]\n",
    "    union = anc_sz.unsqueeze(1) + tgt_sz.unsqueeze(0) - inter\n",
    "    return inter/(union+1e-8)"
   ]
  },
  {
   "cell_type": "raw",
   "metadata": {},
   "source": [
    "And then the IoU values are."
   ]
  },
  {
   "cell_type": "code",
   "execution_count": 44,
   "metadata": {},
   "outputs": [
    {
     "data": {
      "text/plain": [
       "tensor([[0.0833, 0.3333, 0.0000],\n",
       "        [0.0833, 0.3333, 0.0000],\n",
       "        [0.0833, 0.0000, 0.0000],\n",
       "        [0.0833, 0.0000, 0.0000],\n",
       "        [0.0833, 0.1429, 0.0000],\n",
       "        [0.0833, 0.1429, 0.0000],\n",
       "        [0.0833, 0.0000, 0.1200],\n",
       "        [0.0833, 0.0000, 0.1200],\n",
       "        [0.0833, 0.0000, 0.0000],\n",
       "        [0.0833, 0.0000, 0.0000],\n",
       "        [0.0833, 0.0000, 0.1200],\n",
       "        [0.0833, 0.0000, 0.1200]])"
      ]
     },
     "execution_count": 44,
     "metadata": {},
     "output_type": "execute_result"
    }
   ],
   "source": [
    "IoU_values(anchors, targets)"
   ]
  },
  {
   "cell_type": "raw",
   "metadata": {},
   "source": [
    "Then we match a anchor to targets with the following rules:\n",
    "\n",
    "    for each anchor we take the maximum overlap possible with any of the targets.\n",
    "    if that maximum overlap is less than 0.4, we match the anchor box to background, the classifier's target will be that class\n",
    "    if the maximum overlap is greater than 0.5, we match the anchor box to that ground truth object. The classifier's target will be the category of that target\n",
    "    if the maximum overlap is between 0.4 and 0.5, we ignore that anchor in our loss computation\n",
    "    optionally, we force-match for each ground truth object the anchor that has the maximum overlap with it (not sure it helps)"
   ]
  },
  {
   "cell_type": "code",
   "execution_count": 45,
   "metadata": {},
   "outputs": [],
   "source": [
    "def match_anchors(anchors, targets, match_thr=0.5, bkg_thr=0.4):\n",
    "    \"Match `anchors` to targets. -1 is match to background, -2 is ignore.\"    \n",
    "    matches = anchors.new(anchors.size(0)).zero_().long() - 2\n",
    "    if targets.numel() == 0: return matches\n",
    "    ious = IoU_values(anchors, targets)\n",
    "    vals,idxs = torch.max(ious,1)\n",
    "    matches[vals < bkg_thr] = -1\n",
    "    matches[vals > match_thr] = idxs[vals > match_thr]\n",
    "    #Overwrite matches with each target getting the anchor that has the max IoU.\n",
    "    #vals,idxs = torch.max(ious,0)\n",
    "    #If idxs contains repetition, this doesn't bug and only the last is considered.\n",
    "    #matches[idxs] = targets.new_tensor(list(range(targets.size(0)))).long()\n",
    "    return matches"
   ]
  },
  {
   "cell_type": "raw",
   "metadata": {},
   "source": [
    "In our previous example, no one had an overlap > 0.5, so unless we use the special rule commented out, there are no matches."
   ]
  },
  {
   "cell_type": "code",
   "execution_count": 46,
   "metadata": {
    "scrolled": false
   },
   "outputs": [
    {
     "data": {
      "text/plain": [
       "tensor([-1, -1, -1, -1, -1, -1, -1, -1, -1, -1, -1, -1])"
      ]
     },
     "execution_count": 46,
     "metadata": {},
     "output_type": "execute_result"
    }
   ],
   "source": [
    "match_anchors(anchors, targets)"
   ]
  },
  {
   "cell_type": "code",
   "execution_count": 51,
   "metadata": {},
   "outputs": [
    {
     "data": {
      "text/plain": [
       "tensor([ 0,  1,  2,  3,  4,  5,  6,  7,  8,  9, 10, 11])"
      ]
     },
     "execution_count": 51,
     "metadata": {},
     "output_type": "execute_result"
    }
   ],
   "source": [
    "size=(3,4)\n",
    "anchors = create_grid(size)\n",
    "anchors = torch.cat([anchors, torch.tensor([2/size[0],2/size[1]]).expand_as(anchors)], 1)\n",
    "activations = 0.8 * torch.randn(size[0]*size[1], 4)\n",
    "bboxes = activ_to_bbox(activations, anchors)\n",
    "match_anchors(anchors,bboxes)"
   ]
  },
  {
   "cell_type": "code",
   "execution_count": 57,
   "metadata": {},
   "outputs": [
    {
     "data": {
      "text/plain": [
       "tensor([ 0,  1,  2,  3, -2])"
      ]
     },
     "execution_count": 57,
     "metadata": {},
     "output_type": "execute_result"
    }
   ],
   "source": [
    "anchors = create_grid((2,2))\n",
    "anchors = torch.cat([anchors, torch.tensor([1.,1.]).expand_as(anchors)], 1)\n",
    "targets = anchors.clone()\n",
    "anchors = torch.cat([anchors, torch.tensor([[-0.5,0.,1.,1.8]])], 0)\n",
    "match_anchors(anchors,targets)"
   ]
  },
  {
   "cell_type": "code",
   "execution_count": 58,
   "metadata": {},
   "outputs": [
    {
     "data": {
      "image/png": "[encoded data removed]",
      "text/plain": [
       "<Figure size 360x360 with 1 Axes>"
      ]
     },
     "metadata": {
      "needs_background": "light"
     },
     "output_type": "display_data"
    }
   ],
   "source": [
    "show_boxes(anchors)"
   ]
  },
  {
   "cell_type": "code",
   "execution_count": 59,
   "metadata": {},
   "outputs": [
    {
     "data": {
      "image/png": "[encoded data removed]",
      "text/plain": [
       "<Figure size 360x360 with 1 Axes>"
      ]
     },
     "metadata": {
      "needs_background": "light"
     },
     "output_type": "display_data"
    }
   ],
   "source": [
    "show_boxes(targets)"
   ]
  },
  {
   "cell_type": "raw",
   "metadata": {},
   "source": [
    "opposite of cthw2tbr"
   ]
  },
  {
   "cell_type": "code",
   "execution_count": 62,
   "metadata": {},
   "outputs": [],
   "source": [
    "def tlbr2cthw(boxes):\n",
    "    \"Convert top/left bottom/right format `boxes` to center/size corners.\"\n",
    "    center = (boxes[:,:2] + boxes[:,2:])/2\n",
    "    sizes = boxes[:,2:] - boxes[:,:2]\n",
    "    return torch.cat([center, sizes], 1)"
   ]
  },
  {
   "cell_type": "raw",
   "metadata": {},
   "source": [
    "Does the opposite of activ_to_bbox."
   ]
  },
  {
   "cell_type": "code",
   "execution_count": 63,
   "metadata": {},
   "outputs": [],
   "source": [
    "def bbox_to_activ(bboxes, anchors, flatten=True):\n",
    "    \"Return the target of the model on `anchors` for the `bboxes`.\"\n",
    "    if flatten:\n",
    "        t_centers = (bboxes[...,:2] - anchors[...,:2]) / anchors[...,2:] \n",
    "        t_sizes = torch.log(bboxes[...,2:] / anchors[...,2:] + 1e-8) \n",
    "        return torch.cat([t_centers, t_sizes], -1).div_(bboxes.new_tensor([[0.1, 0.1, 0.2, 0.2]]))\n",
    "    else: return [activ_to_bbox(act,anc) for act,anc in zip(acts, anchors)]\n",
    "    return res"
   ]
  },
  {
   "cell_type": "raw",
   "metadata": {},
   "source": [
    "We will one-hot encode our targets with the convention that the class of index 0 is the background, which is the absence of any other classes. That is coded by a row of zeros."
   ]
  },
  {
   "cell_type": "code",
   "execution_count": 64,
   "metadata": {},
   "outputs": [],
   "source": [
    "def encode_class(idxs, n_classes):\n",
    "    target = idxs.new_zeros(len(idxs), n_classes).float()\n",
    "    mask = idxs != 0\n",
    "    i1s = LongTensor(list(range(len(idxs))))\n",
    "    target[i1s[mask],idxs[mask]-1] = 1\n",
    "    return target"
   ]
  },
  {
   "cell_type": "code",
   "execution_count": 65,
   "metadata": {},
   "outputs": [
    {
     "data": {
      "text/plain": [
       "tensor([[1., 0., 0.],\n",
       "        [0., 1., 0.],\n",
       "        [0., 0., 0.],\n",
       "        [1., 0., 0.],\n",
       "        [0., 0., 1.]])"
      ]
     },
     "execution_count": 65,
     "metadata": {},
     "output_type": "execute_result"
    }
   ],
   "source": [
    "encode_class(LongTensor([1,2,0,1,3]),3)"
   ]
  },
  {
   "cell_type": "code",
   "execution_count": null,
   "metadata": {},
   "outputs": [],
   "source": []
  }
 ],
 "metadata": {
  "kernelspec": {
   "display_name": "Python 3",
   "language": "python",
   "name": "python3"
  },
  "language_info": {
   "codemirror_mode": {
    "name": "ipython",
    "version": 3
   },
   "file_extension": ".py",
   "mimetype": "text/x-python",
   "name": "python",
   "nbconvert_exporter": "python",
   "pygments_lexer": "ipython3",
   "version": "3.7.2"
  }
 },
 "nbformat": 4,
 "nbformat_minor": 2
}
